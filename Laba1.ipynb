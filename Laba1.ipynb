{
 "cells": [
  {
   "cell_type": "markdown",
   "id": "extraordinary-chrome",
   "metadata": {},
   "source": [
    "# Лабораторная работа 1\n",
    "## Сушков Илья, БВТ1904"
   ]
  },
  {
   "cell_type": "markdown",
   "id": "ordered-hundred",
   "metadata": {},
   "source": [
    "### Функция быстрой сортировки"
   ]
  },
  {
   "cell_type": "code",
   "execution_count": 1,
   "id": "monthly-bangkok",
   "metadata": {},
   "outputs": [],
   "source": [
    "import random\n",
    "\n",
    "# Переменные размера матрицы\n",
    "column = 10\n",
    "row = 10\n",
    "\n",
    "matrix = [[random.randrange(0, 100) for y in range(column)] for x in range(row)]\n",
    "\n",
    "\n",
    "def quicksort(nums):\n",
    "    if len(nums) <= 1:\n",
    "        return nums\n",
    "    else:\n",
    "        q = random.choice(nums)\n",
    "    l_nums = [n for n in nums if n < q]\n",
    "\n",
    "    e_nums = [q] * nums.count(q)\n",
    "    b_nums = [n for n in nums if n > q]\n",
    "    return quicksort(l_nums) + e_nums + quicksort(b_nums)"
   ]
  },
  {
   "cell_type": "markdown",
   "id": "turned-tulsa",
   "metadata": {},
   "source": [
    "### Сортировка Шелла"
   ]
  },
  {
   "cell_type": "code",
   "execution_count": 2,
   "id": "oriental-values",
   "metadata": {},
   "outputs": [
    {
     "name": "stdout",
     "output_type": "stream",
     "text": [
      "[2, 14, 22, 33, 48, 56, 57, 61, 63, 95]\n",
      "[1, 6, 19, 20, 43, 44, 55, 56, 73, 95]\n",
      "[7, 38, 57, 57, 73, 79, 83, 84, 87, 90]\n",
      "[7, 9, 53, 58, 65, 65, 72, 85, 92, 96]\n",
      "[0, 46, 53, 55, 63, 72, 73, 76, 80, 89]\n",
      "[2, 19, 20, 25, 30, 31, 57, 63, 66, 80]\n",
      "[4, 39, 40, 42, 50, 52, 56, 56, 72, 94]\n",
      "[4, 7, 11, 16, 18, 20, 37, 55, 75, 85]\n",
      "[3, 17, 21, 31, 57, 64, 65, 77, 96, 97]\n",
      "[12, 17, 20, 23, 25, 25, 62, 83, 84, 85]\n",
      "--- 0.0010004043579101562 seconds ---\n"
     ]
    }
   ],
   "source": [
    "column = 10\n",
    "row = 10\n",
    "import random\n",
    "matrix = [[random.randrange(0, 100) for y in range(column)] for x in range(row)]\n",
    "import time\n",
    "start_time = time.time()\n",
    "\n",
    "def shell_sort(lst):\n",
    "    gap = len(lst) // 2\n",
    "\n",
    "    while gap > 0:\n",
    "        for value in range(gap, len(lst)):\n",
    "            current_value = lst[value]\n",
    "            position = value\n",
    "\n",
    "            while position >= gap and lst[position - gap] > current_value:\n",
    "                lst[position] = lst[position - gap]\n",
    "                position -= gap\n",
    "                lst[position] = current_value\n",
    "\n",
    "        gap //= 2\n",
    "    return lst\n",
    "\n",
    "\n",
    "# for i in range(row):\n",
    "#     print(quicksort(matrix[i]))\n",
    "# print()\n",
    "for i in range(row):\n",
    "    print(shell_sort(matrix[i]))\n",
    "# print()\n",
    "# for i in range(row):\n",
    "#     print(sorted(matrix[i]))\n",
    "\n",
    "print(\"--- %s seconds ---\" % (time.time() - start_time))"
   ]
  },
  {
   "cell_type": "markdown",
   "id": "abroad-night",
   "metadata": {},
   "source": [
    "### Сортировка выбором"
   ]
  },
  {
   "cell_type": "code",
   "execution_count": 3,
   "id": "becoming-server",
   "metadata": {},
   "outputs": [
    {
     "name": "stdout",
     "output_type": "stream",
     "text": [
      "[2, 14, 22, 33, 48, 56, 57, 61, 63, 95]\n",
      "[1, 6, 19, 20, 43, 44, 55, 56, 73, 95]\n",
      "[7, 38, 57, 57, 73, 79, 83, 84, 87, 90]\n",
      "[7, 9, 53, 58, 65, 65, 72, 85, 92, 96]\n",
      "[0, 46, 53, 55, 63, 72, 73, 76, 80, 89]\n",
      "[2, 19, 20, 25, 30, 31, 57, 63, 66, 80]\n",
      "[4, 39, 40, 42, 50, 52, 56, 56, 72, 94]\n",
      "[4, 7, 11, 16, 18, 20, 37, 55, 75, 85]\n",
      "[3, 17, 21, 31, 57, 64, 65, 77, 96, 97]\n",
      "[12, 17, 20, 23, 25, 25, 62, 83, 84, 85]\n",
      "--- 0.001999378204345703 seconds ---\n"
     ]
    }
   ],
   "source": [
    "import time\n",
    "start_time = time.time()\n",
    "\n",
    "\n",
    "def selection_sort(lst):\n",
    "    for num in range(len(lst)):\n",
    "        min_value = num\n",
    "\n",
    "        for item in range(num, len(lst)):\n",
    "            if lst[min_value] > lst[item]:\n",
    "                min_value = item\n",
    "\n",
    "        lst[num], lst[min_value] = lst[min_value], lst[num]\n",
    "\n",
    "    return lst\n",
    "\n",
    "# Вызов функций сортировки\n",
    "for i in range(row):\n",
    "    print(selection_sort(matrix[i]))\n",
    "# print()\n",
    "# for i in range(row):\n",
    "#     print(quicksort(matrix[i]))\n",
    "# print()\n",
    "# for i in range(row):\n",
    "#     print(sorted(matrix[i]))\n",
    "\n",
    "print(\"--- %s seconds ---\" % (time.time() - start_time))"
   ]
  },
  {
   "cell_type": "markdown",
   "id": "established-sewing",
   "metadata": {},
   "source": [
    "## Сортировка вставкой"
   ]
  },
  {
   "cell_type": "code",
   "execution_count": 4,
   "id": "provincial-hypothetical",
   "metadata": {},
   "outputs": [
    {
     "name": "stdout",
     "output_type": "stream",
     "text": [
      "[2, 14, 22, 33, 48, 56, 57, 61, 63, 95]\n",
      "[1, 6, 19, 20, 43, 44, 55, 56, 73, 95]\n",
      "[7, 38, 57, 57, 73, 79, 83, 84, 87, 90]\n",
      "[7, 9, 53, 58, 65, 65, 72, 85, 92, 96]\n",
      "[0, 46, 53, 55, 63, 72, 73, 76, 80, 89]\n",
      "[2, 19, 20, 25, 30, 31, 57, 63, 66, 80]\n",
      "[4, 39, 40, 42, 50, 52, 56, 56, 72, 94]\n",
      "[4, 7, 11, 16, 18, 20, 37, 55, 75, 85]\n",
      "[3, 17, 21, 31, 57, 64, 65, 77, 96, 97]\n",
      "[12, 17, 20, 23, 25, 25, 62, 83, 84, 85]\n",
      "--- 0.001001596450805664 seconds ---\n"
     ]
    }
   ],
   "source": [
    "import time\n",
    "start_time = time.time()\n",
    "\n",
    "\n",
    "def selection_sort(lst):\n",
    "    for num in range(len(lst)):\n",
    "        min_value = num\n",
    "\n",
    "        for item in range(num, len(lst)):\n",
    "            if lst[min_value] > lst[item]:\n",
    "                min_value = item\n",
    "\n",
    "        lst[num], lst[min_value] = lst[min_value], lst[num]\n",
    "\n",
    "    return lst\n",
    "\n",
    "# Вызов функций сортировки\n",
    "for i in range(row):\n",
    "    print(selection_sort(matrix[i]))\n",
    "# print()\n",
    "# for i in range(row):\n",
    "#     print(quicksort(matrix[i]))\n",
    "# print()\n",
    "# for i in range(row):\n",
    "#     print(sorted(matrix[i]))\n",
    "\n",
    "print(\"--- %s seconds ---\" % (time.time() - start_time))"
   ]
  },
  {
   "cell_type": "markdown",
   "id": "acceptable-latvia",
   "metadata": {},
   "source": [
    "## Сортировка пузырьком "
   ]
  },
  {
   "cell_type": "code",
   "execution_count": 5,
   "id": "pointed-simple",
   "metadata": {},
   "outputs": [
    {
     "name": "stdout",
     "output_type": "stream",
     "text": [
      "[2, 14, 22, 33, 48, 56, 57, 61, 63, 95]\n",
      "[1, 6, 19, 20, 43, 44, 55, 56, 73, 95]\n",
      "[7, 38, 57, 57, 73, 79, 83, 84, 87, 90]\n",
      "[7, 9, 53, 58, 65, 65, 72, 85, 92, 96]\n",
      "[0, 46, 53, 55, 63, 72, 73, 76, 80, 89]\n",
      "[2, 19, 20, 25, 30, 31, 57, 63, 66, 80]\n",
      "[4, 39, 40, 42, 50, 52, 56, 56, 72, 94]\n",
      "[4, 7, 11, 16, 18, 20, 37, 55, 75, 85]\n",
      "[3, 17, 21, 31, 57, 64, 65, 77, 96, 97]\n",
      "[12, 17, 20, 23, 25, 25, 62, 83, 84, 85]\n",
      "--- 0.0010008811950683594 seconds ---\n"
     ]
    }
   ],
   "source": [
    "import time\n",
    "start_time = time.time()\n",
    "\n",
    "def bubble_sort(lst):\n",
    "    for num in range(len(lst) - 1, 0, -1):\n",
    "        for item in range(num):\n",
    "            if lst[item] > lst[item + 1]:\n",
    "                lst[item], lst[item + 1] = lst[item + 1], lst[item]\n",
    "\n",
    "    return lst\n",
    "\n",
    "\n",
    "for i in range(row):\n",
    "    print(bubble_sort(matrix[i]))\n",
    "# print()\n",
    "# for i in range(row):\n",
    "#     print(quicksort(matrix[i]))\n",
    "# print()\n",
    "# for i in range(row):\n",
    "#     print(sorted(matrix[i]))\n",
    "\n",
    "print(\"--- %s seconds ---\" % (time.time() - start_time))"
   ]
  },
  {
   "cell_type": "markdown",
   "id": "underlying-jones",
   "metadata": {},
   "source": [
    "## Сортировка кучей"
   ]
  },
  {
   "cell_type": "code",
   "execution_count": 6,
   "id": "nasty-emerald",
   "metadata": {},
   "outputs": [
    {
     "name": "stdout",
     "output_type": "stream",
     "text": [
      "[2, 14, 22, 33, 48, 56, 57, 61, 63, 95]\n",
      "[1, 6, 19, 20, 43, 44, 55, 56, 73, 95]\n",
      "[7, 38, 57, 57, 73, 79, 83, 84, 87, 90]\n",
      "[7, 9, 53, 58, 65, 65, 72, 85, 92, 96]\n",
      "[0, 46, 53, 55, 63, 72, 73, 76, 80, 89]\n",
      "[2, 19, 20, 25, 30, 31, 57, 63, 66, 80]\n",
      "[4, 39, 40, 42, 50, 52, 56, 56, 72, 94]\n",
      "[4, 7, 11, 16, 18, 20, 37, 55, 75, 85]\n",
      "[3, 17, 21, 31, 57, 64, 65, 77, 96, 97]\n",
      "[12, 17, 20, 23, 25, 25, 62, 83, 84, 85]\n",
      "--- 0.001001119613647461 seconds ---\n"
     ]
    }
   ],
   "source": [
    "\n",
    "import time\n",
    "start_time = time.time()\n",
    "# Основной алгоритм сортировки кучей\n",
    "def HeapSort(data):\n",
    "    # Формируем первоначальное сортирующее дерево\n",
    "    # Для этого справа-налево перебираем элементы массива\n",
    "    # (у которых есть потомки) и делаем для каждого из них просейку\n",
    "    for start in range((len(data) - 2) // 2, -1, -1):\n",
    "        HeapSift(data, start, len(data) - 1)\n",
    "\n",
    "        # Первый элемент массива всегда соответствует корню сортирующего дерева\n",
    "    # и поэтому является максимумом для неотсортированной части массива.\n",
    "    for end in range(len(data) - 1, 0, -1):\n",
    "        # Меняем этот максимум местами с последним\n",
    "        # элементом неотсортированной части массива\n",
    "        data[end], data[0] = data[0], data[end]\n",
    "        # После обмена в корне сортирующего дерева немаксимальный элемент\n",
    "        # Восстанавливаем сортирующее дерево\n",
    "        # Просейка для неотсортированной части массива\n",
    "        HeapSift(data, 0, end - 1)\n",
    "    return data\n",
    "\n",
    "\n",
    "# Просейка свеху вниз, в результате которой восстанавливается сортирующее дерево\n",
    "def HeapSift(data, start, end):\n",
    "    # Начало подмассива - узел, с которого начинаем просейку вниз\n",
    "    root = start\n",
    "\n",
    "    # Цикл просейки продолжается до тех пор,\n",
    "    # Пока встречаются потомки, большие чем их родитель\n",
    "    while True:\n",
    "\n",
    "        child = root * 2 + 1  # Левый потомок\n",
    "        # Левый потомок за пределами подмассива - завершаем просейку\n",
    "        if child > end: break\n",
    "\n",
    "        # Если правый потомок тоже в пределах подмассива,\n",
    "        # то среди обоих потомков выбираем наибольший\n",
    "        if child + 1 <= end and data[child] < data[child + 1]:\n",
    "            child += 1\n",
    "\n",
    "        # Если больший потомок больше корня, то меняем местами\n",
    "        # при этом больший потомок сам становится корнем,\n",
    "        # от которого дальше опускаемся вниз по дереву\n",
    "        if data[root] < data[child]:\n",
    "            data[root], data[child] = data[child], data[root]\n",
    "            root = child\n",
    "        else:\n",
    "            break\n",
    "\n",
    "# for i in range(row):\n",
    "#     print(HeapSort(matrix[i]))\n",
    "# print()\n",
    "# for i in range(row):\n",
    "#     print(quicksort(matrix[i]))\n",
    "# print()\n",
    "for i in range(row):\n",
    "    print(sorted(matrix[i]))\n",
    "\n",
    "print(\"--- %s seconds ---\" % (time.time() - start_time))"
   ]
  },
  {
   "cell_type": "markdown",
   "id": "neutral-stake",
   "metadata": {},
   "source": [
    "## Выводы"
   ]
  },
  {
   "cell_type": "code",
   "execution_count": null,
   "id": "worst-leeds",
   "metadata": {},
   "outputs": [],
   "source": [
    "Сортировка выбором\n",
    "Худшее время: О(n2)\n",
    "Лучшее время: О(n2)\n",
    "Среднее время: О(n2)\n",
    "Несколько итераций программы\n",
    "--- 0.048999786376953125 seconds ---\n",
    "--- 0.05699801445007324 seconds ---\n",
    "--- 0.0559995174407959 seconds ---"
   ]
  },
  {
   "cell_type": "code",
   "execution_count": null,
   "id": "wicked-renewal",
   "metadata": {},
   "outputs": [],
   "source": [
    "Сортировка вставкой\n",
    "Худшее время: О(n2) \n",
    "Лучшее время: O(n) \n",
    "Среднее время: О(n2) \n",
    "Несколько итераций программы\n",
    "--- 0.05899953842163086 seconds ---\n",
    "--- 0.059999942779541016 seconds ---\n",
    "--- 0.060002803802490234 seconds ---"
   ]
  },
  {
   "cell_type": "code",
   "execution_count": null,
   "id": "accomplished-laser",
   "metadata": {},
   "outputs": [],
   "source": [
    "Сортировка обменом (пузырьком)\n",
    "Худшее время: О(n2) \n",
    "Лучшее время: O(n) \n",
    "Среднее время: О(n2) \n",
    "Несколько итераций программы\n",
    "--- 0.11899971961975098 seconds ---\n",
    "--- 0.11001276969909668 seconds ---\n",
    "--- 0.10799908638000488 seconds ---"
   ]
  },
  {
   "cell_type": "code",
   "execution_count": null,
   "id": "boxed-eating",
   "metadata": {},
   "outputs": [],
   "source": [
    "Сортировка Шелла \n",
    "Лучшее время: O(n log2 n)\n",
    "Худшее время: O(n2)\n",
    "Несколько итераций программы\n",
    "--- 0.08197259902954102 seconds ---\n",
    "--- 0.08999896049499512 seconds ---\n",
    "--- 0.08600091934204102 seconds ---"
   ]
  },
  {
   "cell_type": "code",
   "execution_count": null,
   "id": "bulgarian-christopher",
   "metadata": {},
   "outputs": [],
   "source": [
    "Сортировка пирамидальная (кучей)\n",
    "Теория\n",
    "Худшее время: О(n log2 n)\n",
    "Лучшее время: O(n log2 n)\n",
    "Среднее время: O(n log2 n)\n",
    "Несколько итераций программы\n",
    "--- 0.042999267578125 seconds ---\n",
    "--- 0.03901243209838867 seconds ---\n",
    "--- 0.03899979591369629 seconds ---"
   ]
  },
  {
   "cell_type": "code",
   "execution_count": null,
   "id": "charged-german",
   "metadata": {},
   "outputs": [],
   "source": [
    "Быстрая сортировка \n",
    "Худшее время: О(n2)\n",
    "Лучшее время: O(n log2 n)\n",
    "Среднее время: O(n)\n",
    "Несколько итераций программы\n",
    "--- 0.02899765968322754 seconds ---\n",
    "--- 0.027014970779418945 seconds ---\n",
    "--- 0.0279996395111084 seconds ---"
   ]
  },
  {
   "cell_type": "code",
   "execution_count": null,
   "id": "certified-fleet",
   "metadata": {},
   "outputs": [],
   "source": [
    "Стандартная функция сортировки sorted()\n",
    "Теоретические данные O к sorted() я не нашел\n",
    "Несколько итераций программы\n",
    "--- 0.00599980354309082 seconds ---\n",
    "--- 0.010000467300415039 seconds ---\n",
    "--- 0.009003877639770508 seconds ---\n",
    "--- 0.0069997310638427734 seconds ---"
   ]
  },
  {
   "cell_type": "markdown",
   "id": "comic-moore",
   "metadata": {},
   "source": [
    "#### Самой на примере матрицы 100х100, самой быстрой сортировкой оказалась встроенная.\n",
    "#### В ходе этой практической работы я научился работать с алгоритмами сортировки в python, а также замерять время работы программы.\n"
   ]
  }
 ],
 "metadata": {
  "kernelspec": {
   "display_name": "Python 3",
   "language": "python",
   "name": "python3"
  },
  "language_info": {
   "codemirror_mode": {
    "name": "ipython",
    "version": 3
   },
   "file_extension": ".py",
   "mimetype": "text/x-python",
   "name": "python",
   "nbconvert_exporter": "python",
   "pygments_lexer": "ipython3",
   "version": "3.9.2"
  }
 },
 "nbformat": 4,
 "nbformat_minor": 5
}
